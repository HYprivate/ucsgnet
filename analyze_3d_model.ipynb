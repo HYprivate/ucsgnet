{
 "cells": [
  {
   "cell_type": "code",
   "execution_count": 1,
   "metadata": {},
   "outputs": [],
   "source": [
    "from ucsgnet.ucsgnet.net_3d import Net\n",
    "\n",
    "import torch\n",
    "import shlex\n",
    "import argparse\n",
    "import os\n",
    "import matplotlib.pyplot as plt\n",
    "import seaborn as sns\n",
    "import pandas as pd\n",
    "import numpy as np\n",
    "\n",
    "from sklearn.preprocessing import LabelEncoder\n",
    "from tqdm.auto import tqdm\n",
    "from sklearn.manifold import TSNE\n",
    "from collections import defaultdict"
   ]
  },
  {
   "cell_type": "code",
   "execution_count": 2,
   "metadata": {},
   "outputs": [],
   "source": [
    "def get_args() -> argparse.Namespace:\n",
    "    parser = argparse.ArgumentParser(\n",
    "        description=(\n",
    "            \"Reconstructs all shapes in the dataset by predicting values at \"\n",
    "            \"each 3D point and then thresholding\"\n",
    "        ),\n",
    "        add_help=False,\n",
    "    )\n",
    "\n",
    "    parser.add_argument(\n",
    "        \"--weights_path\", required=True, help=\"Path to the model to load\"\n",
    "    )\n",
    "    parser.add_argument(\n",
    "        \"--size\", type=int, help=\"Data size to be used\", required=True\n",
    "    )\n",
    "    parser.add_argument(\n",
    "        \"--processed\",\n",
    "        dest=\"processed_data_path\",\n",
    "        type=str,\n",
    "        help=\"Base folder of processed data\",\n",
    "        required=True,\n",
    "    )\n",
    "    parser.add_argument(\n",
    "        \"--valid\",\n",
    "        dest=\"valid_file\",\n",
    "        type=str,\n",
    "        help=\"Path to valid HDF5 file with the valid data\",\n",
    "        required=True,\n",
    "    )\n",
    "    parser.add_argument(\n",
    "        \"--valid_shape_names\",\n",
    "        type=str,\n",
    "        help=(\n",
    "            \"Path to valid text file with the names for each data point in \"\n",
    "            \"the valid dataset\"\n",
    "        ),\n",
    "        required=True,\n",
    "    )\n",
    "    parser.add_argument(\n",
    "        \"--sphere_complexity\",\n",
    "        type=int,\n",
    "        help=\"Number of segments lat/lon of the sphere\",\n",
    "        required=False,\n",
    "        default=16,\n",
    "    )\n",
    "\n",
    "    parser = Net.add_model_specific_args(parser)\n",
    "    args = parser.parse_args(\n",
    "        shlex.split(\n",
    "            \"--valid all_vox256_img_test.hdf5 --valid_shape_names all_vox256_img_test.txt --processed data/hdf5 --size 64 --weights_path models/3d_64/initial/ckpts/model.ckpt --sphere_complexity 3\"\n",
    "        )\n",
    "    )\n",
    "    return args\n",
    "\n",
    "args = get_args()"
   ]
  },
  {
   "cell_type": "code",
   "execution_count": 3,
   "metadata": {},
   "outputs": [
    {
     "name": "stdout",
     "output_type": "stream",
     "text": [
      "Num of trainable params: 16641062\n",
      "Num of not trainable params: 0\n"
     ]
    }
   ],
   "source": [
    "model = Net.load_from_checkpoint(args.weights_path)\n",
    "model.build(\"\", args.valid_file, args.processed_data_path, 64)\n",
    "model.turn_fine_tuning_mode()\n",
    "model.freeze()\n",
    "model.hparams.batch_size = 12\n",
    "if torch.cuda.is_available():\n",
    "    model = model.cuda()\n",
    "with open(\n",
    "    os.path.join(args.processed_data_path, args.valid_shape_names)\n",
    ") as f:\n",
    "    file_names = f.read().split(\"\\n\")\n",
    "\n",
    "loader = model.val_dataloader()"
   ]
  },
  {
   "cell_type": "code",
   "execution_count": 4,
   "metadata": {},
   "outputs": [
    {
     "data": {
      "application/vnd.jupyter.widget-view+json": {
       "model_id": "7c98d74d722d4786908fd92944862670",
       "version_major": 2,
       "version_minor": 0
      },
      "text/plain": [
       "HBox(children=(FloatProgress(value=0.0, max=731.0), HTML(value='')))"
      ]
     },
     "metadata": {},
     "output_type": "display_data"
    },
    {
     "name": "stdout",
     "output_type": "stream",
     "text": [
      "\n"
     ]
    }
   ],
   "source": [
    "device = next(model.parameters()).device\n",
    "latents = []\n",
    "latent_codes_for_samples = defaultdict(list)\n",
    "emits = defaultdict(list)\n",
    "for _, batch in enumerate(tqdm(loader)):\n",
    "    voxels = batch[0].to(device)\n",
    "    points = batch[1].to(device)\n",
    "    vox_pred = (\n",
    "        model.net.encoder_(voxels)\n",
    "    )\n",
    "    \n",
    "    latent_codes, batch_emits = model.net.get_latent_codes_for_each_layer(\n",
    "        voxels, points\n",
    "    )\n",
    "    for key, elems in latent_codes.items():\n",
    "        latent_codes_for_samples[key].append(elems)\n",
    "        \n",
    "    for key, elems in batch_emits.items():\n",
    "        emits[key].append(elems)\n",
    "    latents.append(vox_pred)\n",
    "latents = torch.cat(latents, dim=0).detach().cpu().numpy()\n",
    "latent_codes_for_samples = {key: torch.cat(lats, dim=0).detach().cpu().numpy() for key, lats in latent_codes_for_samples.items()}\n",
    "emits = {key: torch.cat(lats, dim=0).detach().cpu().numpy() for key, lats in emits.items()}"
   ]
  },
  {
   "cell_type": "code",
   "execution_count": 5,
   "metadata": {},
   "outputs": [
    {
     "name": "stdout",
     "output_type": "stream",
     "text": [
      "\n"
     ]
    },
    {
     "data": {
      "image/png": "[encoded data removed]",
      "text/plain": [
       "<Figure size 432x288 with 1 Axes>"
      ]
     },
     "metadata": {
      "needs_background": "light"
     },
     "output_type": "display_data"
    }
   ],
   "source": [
    "plt.hist(latents.reshape((-1,)), bins=1000)\n",
    "print()"
   ]
  },
  {
   "cell_type": "code",
   "execution_count": 6,
   "metadata": {},
   "outputs": [
    {
     "name": "stdout",
     "output_type": "stream",
     "text": [
      "\n"
     ]
    },
    {
     "data": {
      "image/png": "[encoded data removed]",
      "text/plain": [
       "<Figure size 432x288 with 1 Axes>"
      ]
     },
     "metadata": {
      "needs_background": "light"
     },
     "output_type": "display_data"
    }
   ],
   "source": [
    "plt.hist(model.net._gru_hidden_state.detach().cpu().numpy()[0], bins=100)\n",
    "print()"
   ]
  },
  {
   "cell_type": "code",
   "execution_count": 12,
   "metadata": {},
   "outputs": [
    {
     "name": "stdout",
     "output_type": "stream",
     "text": [
      "\n"
     ]
    },
    {
     "data": {
      "image/png": "[encoded data removed]",
      "text/plain": [
       "<Figure size 432x288 with 1 Axes>"
      ]
     },
     "metadata": {
      "needs_background": "light"
     },
     "output_type": "display_data"
    }
   ],
   "source": [
    "plt.hist(emits['emits_3'].reshape((-1,)), bins=1000)\n",
    "print()"
   ]
  },
  {
   "cell_type": "code",
   "execution_count": null,
   "metadata": {},
   "outputs": [],
   "source": [
    "tsne = TSemitscomponents=2, verbose=1, perplexity=40, n_iter=300)\n",
    "tsne_results = tsne.fit_transform(latents)"
   ]
  },
  {
   "cell_type": "code",
   "execution_count": null,
   "metadata": {},
   "outputs": [],
   "source": [
    "cat_to_str = {name.split(\"_\")[0]: name.split(\"_\")[1] for name in [\n",
    "    \"02691156_airplane\",\n",
    "    \"02828884_bench\",\n",
    "    \"02933112_cabinet\",\n",
    "    \"02958343_car\",\n",
    "    \"03001627_chair\",\n",
    "    \"03211117_display\",\n",
    "    \"03636649_lamp\",\n",
    "    \"03691459_speaker\",\n",
    "    \"04090263_rifle\",\n",
    "    \"04256520_couch\",\n",
    "    \"04379243_table\",\n",
    "    \"04401088_phone\",\n",
    "    \"04530566_vessel\",\n",
    "]}"
   ]
  },
  {
   "cell_type": "code",
   "execution_count": null,
   "metadata": {},
   "outputs": [],
   "source": [
    "data = {}\n",
    "data['y'] = tsne_results[:,0]\n",
    "data['x'] = tsne_results[:,1]\n",
    "classes = [cat_to_str[name.split('/')[0]] for name in file_names[:-1]]\n",
    "data[\"Object\"] = classes\n",
    "data = pd.DataFrame(data)\n",
    "plt.figure(figsize=(16,10))\n",
    "ax = sns.scatterplot(\n",
    "    x=\"x\", y=\"y\",\n",
    "    hue=\"Object\",\n",
    "    palette=sns.color_palette(\"hls\", 13),\n",
    "    data=data,\n",
    "    legend=\"full\",\n",
    "    alpha=0.3\n",
    ")\n",
    "ax.set_ylabel(\"off\")"
   ]
  },
  {
   "cell_type": "code",
   "execution_count": null,
   "metadata": {},
   "outputs": [],
   "source": [
    "data['y']"
   ]
  },
  {
   "cell_type": "code",
   "execution_count": null,
   "metadata": {},
   "outputs": [],
   "source": []
  }
 ],
 "metadata": {
  "kernelspec": {
   "display_name": "Python 3",
   "language": "python",
   "name": "python3"
  },
  "language_info": {
   "codemirror_mode": {
    "name": "ipython",
    "version": 3
   },
   "file_extension": ".py",
   "mimetype": "text/x-python",
   "name": "python",
   "nbconvert_exporter": "python",
   "pygments_lexer": "ipython3",
   "version": "3.7.3"
  }
 },
 "nbformat": 4,
 "nbformat_minor": 4
}
